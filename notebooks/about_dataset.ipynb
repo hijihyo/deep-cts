{
 "cells": [
  {
   "cell_type": "code",
   "execution_count": 1,
   "metadata": {},
   "outputs": [],
   "source": [
    "import sys\n",
    "\n",
    "sys.path.append(\"../\")"
   ]
  },
  {
   "cell_type": "code",
   "execution_count": 4,
   "metadata": {},
   "outputs": [],
   "source": [
    "from torchvision import transforms as T\n",
    "from src.data.functional import get_kfold_ctssev\n",
    "\n",
    "transform = T.ToTensor()\n",
    "train_dataset, test_dataset = get_kfold_ctssev(\n",
    "  data_path=\"../data\",\n",
    "  num_splits=5,\n",
    "  num_repeats=10,\n",
    "  nth_fold=19,\n",
    "  train_transform=transform,\n",
    "  eval_transform=transform,\n",
    ")"
   ]
  },
  {
   "cell_type": "code",
   "execution_count": 18,
   "metadata": {},
   "outputs": [
    {
     "data": {
      "text/plain": [
       "torch.Size([1058, 433758])"
      ]
     },
     "execution_count": 18,
     "metadata": {},
     "output_type": "execute_result"
    }
   ],
   "source": [
    "import torch\n",
    "\n",
    "values = []\n",
    "for data in train_dataset:\n",
    "  values.append(data[\"inputs1\"].view(1, -1))\n",
    "  values.append(data[\"inputs2\"].view(1, -1))\n",
    "values = torch.cat(values, dim=0)\n",
    "values.size()"
   ]
  },
  {
   "cell_type": "code",
   "execution_count": 19,
   "metadata": {},
   "outputs": [
    {
     "name": "stdout",
     "output_type": "stream",
     "text": [
      "Mean: tensor(0.1651)\n",
      "Std: tensor(0.1553)\n"
     ]
    }
   ],
   "source": [
    "print(\"Mean:\", torch.mean(values))\n",
    "print(\"Std:\", torch.std(values))"
   ]
  },
  {
   "cell_type": "code",
   "execution_count": 6,
   "metadata": {},
   "outputs": [
    {
     "name": "stdout",
     "output_type": "stream",
     "text": [
      "Normal: 43\n",
      "Mild: 21\n",
      "Moderate: 12\n",
      "Severe: 22\n"
     ]
    }
   ],
   "source": [
    "severities = [test_dataset.dataset.severities[i] for i in test_dataset.indices]\n",
    "for severity in [\"normal\", \"mild\", \"moderate\", \"severe\"]:\n",
    "  print(f\"{severity.capitalize()}:\", severities.count(severity))"
   ]
  },
  {
   "cell_type": "code",
   "execution_count": 11,
   "metadata": {},
   "outputs": [
    {
     "name": "stdout",
     "output_type": "stream",
     "text": [
      "Normal: 43\n",
      "Abnormal: 55\n"
     ]
    }
   ],
   "source": [
    "from src.data.functional import get_kfold_ctsdiag\n",
    "\n",
    "train_dataset, test_dataset = get_kfold_ctsdiag(\n",
    "  data_path=\"../data\",\n",
    "  num_splits=5,\n",
    "  num_repeats=10,\n",
    "  nth_fold=19,\n",
    "  train_transform=transform,\n",
    "  eval_transform=transform,\n",
    ")\n",
    "labels = [test_dataset.dataset.labels[i] for i in test_dataset.indices]\n",
    "print(\"Normal:\", labels.count(0))\n",
    "print(\"Abnormal:\", labels.count(1))"
   ]
  },
  {
   "cell_type": "code",
   "execution_count": 8,
   "metadata": {},
   "outputs": [
    {
     "name": "stdout",
     "output_type": "stream",
     "text": [
      "Normal\n",
      "  single viewpoint: 16 / 16\n",
      "  multiple viewpoints: 24 / 244\n",
      "Mild\n",
      "  single viewpoint: 9 / 9\n",
      "  multiple viewpoints: 9 / 90\n",
      "Moderate\n",
      "  single viewpoint: 17 / 17\n",
      "  multiple viewpoints: 12 / 120\n",
      "Severe\n",
      "  single viewpoint: 11 / 11\n",
      "  multiple viewpoints: 12 / 120\n"
     ]
    },
    {
     "data": {
      "text/plain": [
       "627"
      ]
     },
     "execution_count": 8,
     "metadata": {},
     "output_type": "execute_result"
    }
   ],
   "source": [
    "from src.data import CTSDiag\n",
    "\n",
    "dataset = CTSDiag(root=\"../data\", split=None)\n",
    "\n",
    "NORMAL, MILD, MODERATE, SEVERE = 0, 1, 2, 3\n",
    "SINGLE_VP, MULTIPLE_VP = 0, 1\n",
    "data = [[[], []], [[], []], [[], []], [[], []]]\n",
    "for patient, severity in zip(dataset.patients, dataset.severities):\n",
    "  severity = [\"normal\", \"mild\", \"moderate\", \"severe\"].index(severity)\n",
    "  is_single = dataset.patients.count(patient) == 1\n",
    "  data[severity][SINGLE_VP if is_single else MULTIPLE_VP].append(patient)\n",
    "\n",
    "for severity in [\"normal\", \"mild\", \"moderate\", \"severe\"]:\n",
    "  print(severity.capitalize())\n",
    "  severity = [\"normal\", \"mild\", \"moderate\", \"severe\"].index(severity)\n",
    "  print(f\"  single viewpoint: {len(set(data[severity][0]))} / {len(data[severity][0])}\")\n",
    "  print(f\"  multiple viewpoints: {len(set(data[severity][1]))} / {len(data[severity][1])}\")\n",
    "\n",
    "sum(map(lambda e: len(e[0]) + len(e[1]), data))"
   ]
  }
 ],
 "metadata": {
  "kernelspec": {
   "display_name": "base",
   "language": "python",
   "name": "python3"
  },
  "language_info": {
   "codemirror_mode": {
    "name": "ipython",
    "version": 3
   },
   "file_extension": ".py",
   "mimetype": "text/x-python",
   "name": "python",
   "nbconvert_exporter": "python",
   "pygments_lexer": "ipython3",
   "version": "3.9.16"
  },
  "orig_nbformat": 4
 },
 "nbformat": 4,
 "nbformat_minor": 2
}
